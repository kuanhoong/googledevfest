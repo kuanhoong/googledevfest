{
 "cells": [
  {
   "cell_type": "code",
   "execution_count": 9,
   "metadata": {},
   "outputs": [
    {
     "name": "stdout",
     "output_type": "stream",
     "text": [
      "cat (score = 0.99996)\n",
      "dog (score = 0.00004)\n"
     ]
    }
   ],
   "source": [
    "import tensorflow as tf\n",
    "import os, sys\n",
    "from PIL import Image\n",
    "\n",
    "image_path = 'test_images/cat01.jpg'\n",
    "#image_path = 'test_images/cat02.jpg'\n",
    "#image_path = 'test_images/dog01.jpg'\n",
    "#image_path = 'test_images/dog02.jpg'\n",
    "\n",
    "size = (299, 299)\n",
    "\n",
    "infile = image_path\n",
    "outfile = os.path.splitext(infile)[0] + '_resized.jpg'\n",
    "try:\n",
    "    im = Image.open(infile)\n",
    "    im.thumbnail(size, Image.ANTIALIAS)\n",
    "    old_im_size = im.size\n",
    "    \n",
    "    ## By default, black colour would be used as the background for padding!\n",
    "    new_im = Image.new(\"RGB\", size)\n",
    "\n",
    "    new_im.paste(im, (int((size[0]-old_im_size[0])/2), int((size[1]-old_im_size[1])/2)))\n",
    "    \n",
    "    new_im.save(outfile, \"JPEG\")\n",
    "except IOError:\n",
    "    print (\"Cannot resize '%s'\" % infile)\n",
    "\n",
    "\n",
    "\n",
    "# Read in the image_data\n",
    "image_data = tf.gfile.FastGFile(outfile, 'rb').read()\n",
    "\n",
    "# Loads label file, strips off carriage return\n",
    "label_lines = [line.rstrip() for line in tf.gfile.GFile(\"output_labels.txt\")]\n",
    "\n",
    "# Unpersists graph from file\n",
    "with tf.gfile.FastGFile(\"output_graph.pb\", 'rb') as f:\n",
    "    graph_def = tf.GraphDef()\n",
    "    graph_def.ParseFromString(f.read())\n",
    "    _ = tf.import_graph_def(graph_def, name='')\n",
    "\n",
    "init_ops = tf.global_variables_initializer()\n",
    "with tf.Session() as sess:\n",
    "    sess.run(init_ops)\n",
    "    # Feed the image_data as input to the graph and get first prediction\n",
    "    softmax_tensor = sess.graph.get_tensor_by_name('final_result:0')\n",
    "    \n",
    "    predictions = sess.run(softmax_tensor, \\\n",
    "             {'DecodeJpeg/contents:0': image_data})\n",
    "    \n",
    "    # Sort to show labels of first prediction in order of confidence\n",
    "    top_k = predictions[0].argsort()[-len(predictions[0]):][::-1]\n",
    "    \n",
    "    for node_id in top_k:\n",
    "        human_string = label_lines[node_id]\n",
    "        score = predictions[0][node_id]\n",
    "        print('%s (score = %.5f)' % (human_string, score))\n",
    "os.remove(outfile)\n"
   ]
  }
 ],
 "metadata": {
  "kernelspec": {
   "display_name": "Python 3",
   "language": "python",
   "name": "python3"
  },
  "language_info": {
   "codemirror_mode": {
    "name": "ipython",
    "version": 3
   },
   "file_extension": ".py",
   "mimetype": "text/x-python",
   "name": "python",
   "nbconvert_exporter": "python",
   "pygments_lexer": "ipython3",
   "version": "3.6.1"
  }
 },
 "nbformat": 4,
 "nbformat_minor": 2
}
